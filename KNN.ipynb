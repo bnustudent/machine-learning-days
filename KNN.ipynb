{
 "cells": [
  {
   "cell_type": "code",
   "execution_count": 4,
   "metadata": {},
   "outputs": [
    {
     "name": "stdout",
     "output_type": "stream",
     "text": [
      "预测结果： 爱情片\n"
     ]
    }
   ],
   "source": [
    "from numpy import *\n",
    "import operator\n",
    "\n",
    "# k近邻分类算法\n",
    "def classify0(inX, dataSet, labels, k):\n",
    "    '''\n",
    "      inX：用来分类的测试集\n",
    "      dataSet：用来训练的数据集\n",
    "      labels：用来训练的数据集的标签\n",
    "      k：k近邻的k值\n",
    "    '''\n",
    "    #欧式距离计算\n",
    "    dataSetSize = dataSet.shape[0]#行数\n",
    "    diffMat = tile(inX, (dataSetSize,1)) - dataSet  # tile()：将矩阵inX重复，行方向上重复dataSetSize次，列方向上重复1次\n",
    "    sqDiffMat = diffMat**2\n",
    "    sqDistinces = sqDiffMat.sum(axis=1)  #行方向求和\n",
    "    distances = sqDistinces**0.5#sqrt(sum(test-train)^2)欧氏距离\n",
    "    sortedDistIndicies = distances.argsort() #将距离值进行排序，并返回索引值\n",
    "    \n",
    "    #选择距离最小的k个点，并统计k个点中各个类别的数目\n",
    "    classCount = {}\n",
    "    for i in range(k):\n",
    "        voteIlabel = labels[sortedDistIndicies[i]]\n",
    "        classCount[voteIlabel] = classCount.get(voteIlabel,0) + 1  #get(key,default)：若键key在字典中，返回key的value，否则返回默认值\n",
    "    \n",
    "    #排序，选择类别数目最多的所属类别\n",
    "    sortedClassCount = sorted(classCount.items(), key=operator.itemgetter(1), reverse=True)#按照第二个元素的顺序进行排序，逆序\n",
    "    \n",
    "    return sortedClassCount[0][0]\n",
    "\n",
    "\n",
    "#归一化数值\n",
    "#为了消除指标之间的量纲影响，需要进行数据标准化处理，以解决数据指标之间的可比性。原始数据经过数据标准化处理后，各指标处于同一数量级，适合进行综合对比评价。\n",
    "#data-min/(max-min)\n",
    "def autoNorm(dataSet):\n",
    "    minVals = dataSet.min(0)\n",
    "    maxVals = dataSet.max(0)\n",
    "    ranges = maxVals - minVals\n",
    "    normDataSet = zeros(shape(dataSet))\n",
    "    m = dataSet.shape[0]  #获取数据行数\n",
    "    normDataSet = dataSet - tile(minVals, (m,1))\n",
    "    normDataSet = normDataSet/tile(ranges, (m,1))\n",
    "    return normDataSet, ranges, minVals\n",
    "\n",
    "\n",
    "     \n",
    "#以电影数据为例\n",
    "dataSet = array([[3,104],[2,100],[1,81],[101,10],[99,5],[98,2]])  #接吻镜头次数、打斗镜头次数\n",
    "labels = ['爱情片','爱情片','爱情片','动作片','动作片','动作片']\n",
    "test = [18,90]  #未知电影的接吻镜头次数、打斗镜头次数\n",
    "normMat, ranges, minVals = autoNorm(dataSet)  #归一化处理\n",
    "classifierResult = classify0(test, normMat, labels, 3)\n",
    "print(\"预测结果：\", classifierResult)"
   ]
  }
 ],
 "metadata": {
  "kernelspec": {
   "display_name": "Python 3",
   "language": "python",
   "name": "python3"
  },
  "language_info": {
   "codemirror_mode": {
    "name": "ipython",
    "version": 3
   },
   "file_extension": ".py",
   "mimetype": "text/x-python",
   "name": "python",
   "nbconvert_exporter": "python",
   "pygments_lexer": "ipython3",
   "version": "3.7.0"
  }
 },
 "nbformat": 4,
 "nbformat_minor": 2
}
