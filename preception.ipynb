{
 "cells": [
  {
   "cell_type": "markdown",
   "metadata": {},
   "source": [
    "### 感知机代码"
   ]
  },
  {
   "cell_type": "markdown",
   "metadata": {},
   "source": [
    " - Perception 的原始形式\n",
    " - Perception 的对偶形式"
   ]
  },
  {
   "cell_type": "code",
   "execution_count": 1,
   "metadata": {},
   "outputs": [],
   "source": [
    "#原始的数学形式\n",
    "import numpy as np\n",
    "import matplotlib.pyplot as plt\n",
    "import imageio\n",
    "import os"
   ]
  },
  {
   "cell_type": "code",
   "execution_count": 36,
   "metadata": {},
   "outputs": [],
   "source": [
    "class PerceptionMethod(object):  # 定义感知机学习类\n",
    "    def __init__(self, X, Y, eta):  # 类中参数是 X,Y（X,Y)均为numpy数组,eta是学习率\n",
    "        if X.shape[0] != Y.shape[0]:  # 要求X,Y中的数目一样，即一个x对应一个y,否则返回错误\n",
    "            raise ValueError('Error,X and Y must be same when axis=0 ')\n",
    "        else:  # 在类中储存参数\n",
    "            self.X = X\n",
    "            self.Y = Y\n",
    "            self.eta = eta\n",
    "    def ini_Per(self):  # 感知机的原始形式\n",
    "        weight = np.zeros(self.X.shape[1])  # 初始化weight,b\n",
    "        b = 0\n",
    "        number = 0  # 记录训练次数\n",
    "        mistake = True  # mistake是变量用来说明分类是否有错误\n",
    "        while mistake is True:  # 当有错时\n",
    "            mistake = False  # 开始下一轮纠错前需要将mistake变为true，一来判断这一轮是否有错误\n",
    "            for index in range(self.X.shape[0]):  # 循环开始\n",
    "                if self.Y[index] * (weight @ self.X[index] + b) <= 0:  # 错误判断条件\n",
    "                    weight += self.eta * self.Y[index] * self.X[index]  # 进行更新weight，b\n",
    "                    b += self.eta * self.Y[index]\n",
    "                    number += 1\n",
    "                    print(weight, b,number)\n",
    "                    mistake = True  # 此轮检查出错误，表明mistake为true，进行下列一轮\n",
    "                    break  # 找出第一个错误后调出循环\n",
    "        return weight, b  # 返回值\n",
    "   \n",
    "    def dual_Per(self): #对偶形式\n",
    "            Gram = np.dot(self.X, self.X.T)\n",
    "            alpha = np.zeros(self.X.shape[0])\n",
    "            b = 0\n",
    "            mistake = True\n",
    "            while mistake is True:\n",
    "                mistake = False\n",
    "                for index in range(self.X.shape[0]):\n",
    "                    if self.Y[index] * (alpha * self.Y @ Gram[index] + b) <= 0:\n",
    "                        alpha[index] += self.eta\n",
    "                        b += self.eta * self.Y[index]\n",
    "                        print(alpha, b)\n",
    "                        mistake = True\n",
    "                        break\n",
    "            weight = self.Y * alpha @ self.X\n",
    "            return weight, b"
   ]
  },
  {
   "cell_type": "code",
   "execution_count": 37,
   "metadata": {},
   "outputs": [
    {
     "name": "stdout",
     "output_type": "stream",
     "text": [
      "[3. 3.] 1 1\n",
      "[2. 2.] 0 2\n",
      "[1. 1.] -1 3\n",
      "[0. 0.] -2 4\n",
      "[3. 3.] -1 5\n",
      "[2. 2.] -2 6\n",
      "[1. 1.] -3 7\n",
      "(array([1., 1.]), -3)\n",
      "[1. 0. 0.] 1\n",
      "[1. 0. 1.] 0\n",
      "[1. 0. 2.] -1\n",
      "[1. 0. 3.] -2\n",
      "[2. 0. 3.] -1\n",
      "[2. 0. 4.] -2\n",
      "[2. 0. 5.] -3\n",
      "(array([1., 1.]), -3)\n"
     ]
    }
   ],
   "source": [
    "# 一个例子\n",
    "X = np.array([[3, 3], [4, 3], [1, 1]])\n",
    "Y = np.array([1, 1, -1])\n",
    "PER = PerceptionMethod(X, Y, 1)\n",
    "print(PER.ini_Per())\n",
    "print(PER.dual_Per())"
   ]
  },
  {
   "cell_type": "code",
   "execution_count": null,
   "metadata": {},
   "outputs": [],
   "source": []
  },
  {
   "cell_type": "code",
   "execution_count": null,
   "metadata": {},
   "outputs": [],
   "source": []
  },
  {
   "cell_type": "code",
   "execution_count": null,
   "metadata": {},
   "outputs": [],
   "source": []
  },
  {
   "cell_type": "code",
   "execution_count": null,
   "metadata": {},
   "outputs": [],
   "source": []
  },
  {
   "cell_type": "code",
   "execution_count": null,
   "metadata": {},
   "outputs": [],
   "source": []
  },
  {
   "cell_type": "code",
   "execution_count": null,
   "metadata": {},
   "outputs": [],
   "source": []
  },
  {
   "cell_type": "code",
   "execution_count": null,
   "metadata": {},
   "outputs": [],
   "source": []
  },
  {
   "cell_type": "code",
   "execution_count": null,
   "metadata": {},
   "outputs": [],
   "source": []
  }
 ],
 "metadata": {
  "kernelspec": {
   "display_name": "Python 3",
   "language": "python",
   "name": "python3"
  },
  "language_info": {
   "codemirror_mode": {
    "name": "ipython",
    "version": 3
   },
   "file_extension": ".py",
   "mimetype": "text/x-python",
   "name": "python",
   "nbconvert_exporter": "python",
   "pygments_lexer": "ipython3",
   "version": "3.7.0"
  }
 },
 "nbformat": 4,
 "nbformat_minor": 2
}
